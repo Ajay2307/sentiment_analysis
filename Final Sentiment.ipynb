{
 "cells": [
  {
   "cell_type": "markdown",
   "metadata": {},
   "source": [
    "# Sentiment Analysis for drugs/medicines\n",
    "\n",
    "## Problem Statement\n",
    "***Nowadays the narrative of a brand is not only built and controlled by the company that owns the brand. For this reason, companies are constantly looking out across Blogs, Forums, and other social media platforms, etc for checking the sentiment for their various products and also competitor products to learn how their brand resonates in the market. This kind of analysis helps them as part of their post-launch market research. This is relevant for a lot of industries including pharma and their drugs.***\n",
    " \n",
    "\n",
    "***The challenge is that the language used in this type of content is not strictly grammatically correct. Some use sarcasm. Others cover several topics with different sentiments in one post. Other users post comments and reply and thereby indicating his/her sentiment around the topic***\n",
    "\n",
    "##### Sentiment can be clubbed into 3 major buckets - Positive, Negative and Neutral Sentiments."
   ]
  },
  {
   "cell_type": "markdown",
   "metadata": {},
   "source": [
    "Data contain samples of text. This text can contain one or more drug mentions. Each row contains a unique combination of the text and the drug mention. Note that the same text can also have different sentiment for a different drug.\n",
    "# Objective:\n",
    "**Given the text and drug name, the task is to predict the sentiment for texts contained in the test dataset.**\n",
    "\n",
    "Given below is an example of text from the dataset:\n",
    "\n",
    "\n",
    "**Example:**\n",
    "\n",
    "**Stelara is still fairly new to Crohn's treatment. This is why you might not get a lot of replies. I've done some research, but most of the \"time to work\" answers are from Psoriasis boards. For Psoriasis, it seems to be about 4-12 weeks to reach a strong therapeutic level. The good news is, Stelara seems to be getting rave reviews from Crohn's patients. It seems to be the best med to come along since Remicade. I hope you have good success with it. My daughter was diagnosed Feb. 19/07, (13 yrs. old at the time of diagnosis), with Crohn's of the Terminal Illium. Has used Prednisone and Pentasa. Started Imuran (02/09), had an abdominal abscess (12/08). 2cm of Stricture. Started ​Remicade in Feb. 2014, along with 100mgs. of Imuran.**\n",
    "\n",
    " \n",
    "\n",
    "**For Stelara the above text is ​positive​ while for Remicade the above text is ​negative​.**\n",
    "\n",
    " "
   ]
  },
  {
   "cell_type": "markdown",
   "metadata": {},
   "source": [
    "# Data Description\n",
    "train.csv\n",
    "Contains the labelled texts with sentiment values for a given drug\n",
    " \n",
    "\n",
    "Variable\tDefinition\n",
    "unique_hash\tUnique ID\n",
    "text\ttext pertaining to the drugs\n",
    "drug\tdrug name for which the sentiment is provided\n",
    "sentiment\t(Target) 0-positive, 1-negative, 2-neutral\n",
    "\n",
    "# test.csv\n",
    "test.csv contains texts with drug names for which the participants are expected to predict the correct sentiment\n",
    " \n",
    "\n",
    "sample_submission.csv\n",
    "sample_submission.csv contains the submission format for the predictions against the test set. NA single csv needs to be submitted as a solution. The submission file must contain only 2 columns <unique_hash>,<sentiment>.\n",
    " \n",
    "\n",
    " \n",
    "\n",
    "# Evaluation Metric\n",
    "The metric used for evaluating the performance of the classification model would be macro F1-Score.\n",
    " "
   ]
  },
  {
   "cell_type": "code",
   "execution_count": 6,
   "metadata": {},
   "outputs": [],
   "source": [
    "# Import all required modules \n",
    "\n",
    "# All necessary module\n",
    "%matplotlib inline\n",
    "import warnings\n",
    "warnings.filterwarnings(\"ignore\")\n",
    "#import  sys\n",
    "import re\n",
    "import math\n",
    "import sqlite3\n",
    "import pandas as pd\n",
    "import numpy as np\n",
    "import pickle\n",
    "\n",
    "from sklearn.model_selection import TimeSeriesSplit\n",
    "from sklearn.model_selection import cross_val_score\n",
    "from sklearn.model_selection import GridSearchCV\n",
    "\n",
    "#import pytablewriter\n",
    "\n",
    "from sklearn.linear_model import LogisticRegression\n",
    "from scipy.stats import uniform\n",
    "from sklearn.model_selection import RandomizedSearchCV\n",
    "\n",
    "# modules for text processing\n",
    "import nltk\n",
    "import string\n",
    "from nltk.corpus import stopwords\n",
    "from nltk.stem import PorterStemmer\n",
    "from nltk.stem.wordnet import WordNetLemmatizer\n",
    "import matplotlib.pyplot as plt\n",
    "import seaborn as sns\n",
    "from sklearn.feature_extraction.text import TfidfTransformer\n",
    "from sklearn.feature_extraction.text import TfidfVectorizer\n",
    "\n",
    "from sklearn.feature_extraction.text import CountVectorizer\n",
    "from sklearn.metrics import confusion_matrix\n",
    "from sklearn import metrics\n",
    "from sklearn.metrics import f1_score\n",
    "from sklearn.metrics import recall_score\n",
    "from sklearn.metrics import precision_score\n",
    "\n",
    "#import scikitplot.metrics as skplt\n",
    "from sklearn.metrics import classification_report,confusion_matrix,accuracy_score\n",
    "\n",
    "from sklearn.metrics import roc_curve, auc\n",
    "from nltk.stem.porter import PorterStemmer\n",
    "\n",
    "\n",
    "# knn modules\n",
    "# train-split data,accuracy-score,cross-validation modules\n",
    "\n",
    "from sklearn.neighbors import KNeighborsClassifier\n",
    "from sklearn.metrics import accuracy_score\n",
    "\n",
    "from collections import Counter\n",
    "from sklearn.metrics import accuracy_score\n",
    "\n",
    "from sklearn.preprocessing import StandardScaler\n",
    "from bs4 import BeautifulSoup\n",
    "from tqdm import tqdm\n"
   ]
  },
  {
   "cell_type": "code",
   "execution_count": 7,
   "metadata": {},
   "outputs": [
    {
     "data": {
      "text/html": [
       "<div>\n",
       "<style scoped>\n",
       "    .dataframe tbody tr th:only-of-type {\n",
       "        vertical-align: middle;\n",
       "    }\n",
       "\n",
       "    .dataframe tbody tr th {\n",
       "        vertical-align: top;\n",
       "    }\n",
       "\n",
       "    .dataframe thead th {\n",
       "        text-align: right;\n",
       "    }\n",
       "</style>\n",
       "<table border=\"1\" class=\"dataframe\">\n",
       "  <thead>\n",
       "    <tr style=\"text-align: right;\">\n",
       "      <th></th>\n",
       "      <th>unique_hash</th>\n",
       "      <th>text</th>\n",
       "      <th>drug</th>\n",
       "      <th>sentiment</th>\n",
       "    </tr>\n",
       "  </thead>\n",
       "  <tbody>\n",
       "    <tr>\n",
       "      <td>0</td>\n",
       "      <td>2e180be4c9214c1f5ab51fd8cc32bc80c9f612e0</td>\n",
       "      <td>Autoimmune diseases tend to come in clusters. ...</td>\n",
       "      <td>gilenya</td>\n",
       "      <td>2</td>\n",
       "    </tr>\n",
       "    <tr>\n",
       "      <td>1</td>\n",
       "      <td>9eba8f80e7e20f3a2f48685530748fbfa95943e4</td>\n",
       "      <td>I can completely understand why you’d want to ...</td>\n",
       "      <td>gilenya</td>\n",
       "      <td>2</td>\n",
       "    </tr>\n",
       "    <tr>\n",
       "      <td>2</td>\n",
       "      <td>fe809672251f6bd0d986e00380f48d047c7e7b76</td>\n",
       "      <td>Interesting that it only targets S1P-1/5 recep...</td>\n",
       "      <td>fingolimod</td>\n",
       "      <td>2</td>\n",
       "    </tr>\n",
       "    <tr>\n",
       "      <td>3</td>\n",
       "      <td>bd22104dfa9ec80db4099523e03fae7a52735eb6</td>\n",
       "      <td>Very interesting, grand merci. Now I wonder wh...</td>\n",
       "      <td>ocrevus</td>\n",
       "      <td>2</td>\n",
       "    </tr>\n",
       "    <tr>\n",
       "      <td>4</td>\n",
       "      <td>b227688381f9b25e5b65109dd00f7f895e838249</td>\n",
       "      <td>Hi everybody, My latest MRI results for Brain ...</td>\n",
       "      <td>gilenya</td>\n",
       "      <td>1</td>\n",
       "    </tr>\n",
       "  </tbody>\n",
       "</table>\n",
       "</div>"
      ],
      "text/plain": [
       "                                unique_hash  \\\n",
       "0  2e180be4c9214c1f5ab51fd8cc32bc80c9f612e0   \n",
       "1  9eba8f80e7e20f3a2f48685530748fbfa95943e4   \n",
       "2  fe809672251f6bd0d986e00380f48d047c7e7b76   \n",
       "3  bd22104dfa9ec80db4099523e03fae7a52735eb6   \n",
       "4  b227688381f9b25e5b65109dd00f7f895e838249   \n",
       "\n",
       "                                                text        drug  sentiment  \n",
       "0  Autoimmune diseases tend to come in clusters. ...     gilenya          2  \n",
       "1  I can completely understand why you’d want to ...     gilenya          2  \n",
       "2  Interesting that it only targets S1P-1/5 recep...  fingolimod          2  \n",
       "3  Very interesting, grand merci. Now I wonder wh...     ocrevus          2  \n",
       "4  Hi everybody, My latest MRI results for Brain ...     gilenya          1  "
      ]
     },
     "execution_count": 7,
     "metadata": {},
     "output_type": "execute_result"
    }
   ],
   "source": [
    "df=pd.read_csv('train.csv')\n",
    "df.head()"
   ]
  },
  {
   "cell_type": "code",
   "execution_count": 8,
   "metadata": {},
   "outputs": [
    {
     "data": {
      "image/png": "[encoded data removed]",
      "text/plain": [
       "<Figure size 432x288 with 1 Axes>"
      ]
     },
     "metadata": {
      "needs_background": "light"
     },
     "output_type": "display_data"
    }
   ],
   "source": [
    "df['sentiment'].value_counts().plot(kind='bar')\n",
    "plt.show()"
   ]
  },
  {
   "cell_type": "code",
   "execution_count": 9,
   "metadata": {},
   "outputs": [
    {
     "data": {
      "text/plain": [
       "<matplotlib.axes._subplots.AxesSubplot at 0x7f1ac5045630>"
      ]
     },
     "execution_count": 9,
     "metadata": {},
     "output_type": "execute_result"
    },
    {
     "data": {
      "image/png": "[encoded data removed]",
      "text/plain": [
       "<Figure size 432x288 with 1 Axes>"
      ]
     },
     "metadata": {},
     "output_type": "display_data"
    }
   ],
   "source": [
    "df['sentiment'].value_counts().plot(kind='pie', autopct='%1.0f%%', colors=[\"red\", \"yellow\", \"green\"])"
   ]
  },
  {
   "cell_type": "markdown",
   "metadata": {},
   "source": [
    "## observations\n",
    "The neutral sentiment is greater than negative 7 positive sentiment.It makes data imbalanced.\n",
    "From the bar plot ,it is seen that sampled datasets of sentiment is imbalnced"
   ]
  },
  {
   "cell_type": "markdown",
   "metadata": {},
   "source": [
    "## Data Pre-processing on raw data:"
   ]
  },
  {
   "cell_type": "code",
   "execution_count": 10,
   "metadata": {},
   "outputs": [],
   "source": [
    "def preprocess_data(df):\n",
    "    # https://stackoverflow.com/a/47091490/4084039\n",
    "    import re\n",
    "    import nltk\n",
    "    nltk.download('stopwords')\n",
    "    from tqdm import tqdm\n",
    "    import re\n",
    "\n",
    "    def decontracted(phrase):\n",
    "        # specific\n",
    "        phrase = re.sub(r\"won't\", \"will not\", phrase)\n",
    "        phrase = re.sub(r\"can\\'t\", \"can not\", phrase)\n",
    "\n",
    "        # general\n",
    "        phrase = re.sub(r\"n\\'t\", \" not\", phrase)\n",
    "        phrase = re.sub(r\"\\'re\", \" are\", phrase)\n",
    "        phrase = re.sub(r\"\\'s\", \" is\", phrase)\n",
    "        phrase = re.sub(r\"\\'d\", \" would\", phrase)\n",
    "        phrase = re.sub(r\"\\'ll\", \" will\", phrase)\n",
    "        phrase = re.sub(r\"\\'t\", \" not\", phrase)\n",
    "        phrase = re.sub(r\"\\'ve\", \" have\", phrase)\n",
    "        phrase = re.sub(r\"\\'m\", \" am\", phrase)\n",
    "        return phrase\n",
    "    stopwords= set(['br', 'the', 'i', 'me', 'my', 'myself', 'we', 'our', 'ours', 'ourselves', 'you', \"you're\", \"you've\",\\\n",
    "            \"you'll\", \"you'd\", 'your', 'yours', 'yourself', 'yourselves', 'he', 'him', 'his', 'himself', \\\n",
    "            'she', \"she's\", 'her', 'hers', 'herself', 'it', \"it's\", 'its', 'itself', 'they', 'them', 'their',\\\n",
    "            'theirs', 'themselves', 'what', 'which', 'who', 'whom', 'this', 'that', \"that'll\", 'these', 'those', \\\n",
    "            'am', 'is', 'are', 'was', 'were', 'be', 'been', 'being', 'have', 'has', 'had', 'having', 'do', 'does', \\\n",
    "            'did', 'doing', 'a', 'an', 'the', 'and', 'but', 'if', 'or', 'because', 'as', 'until', 'while', 'of', \\\n",
    "            'at', 'by', 'for', 'with', 'about', 'against', 'between', 'into', 'through', 'during', 'before', 'after',\\\n",
    "            'above', 'below', 'to', 'from', 'up', 'down', 'in', 'out', 'on', 'off', 'over', 'under', 'again', 'further',\\\n",
    "            'then', 'once', 'here', 'there', 'when', 'where', 'why', 'how', 'all', 'any', 'both', 'each', 'few', 'more',\\\n",
    "            'most', 'other', 'some', 'such', 'only', 'own', 'same', 'so', 'than', 'too', 'very', \\\n",
    "            's', 't', 'can', 'will', 'just', 'don', \"don't\", 'should', \"should've\", 'now', 'd', 'll', 'm', 'o', 're', \\\n",
    "            've', 'y', 'ain', 'aren', \"aren't\", 'couldn', \"couldn't\", 'didn', \"didn't\", 'doesn', \"doesn't\", 'hadn',\\\n",
    "            \"hadn't\", 'hasn', \"hasn't\", 'haven', \"haven't\", 'isn', \"isn't\", 'ma', 'mightn', \"mightn't\", 'mustn',\\\n",
    "            \"mustn't\", 'needn', \"needn't\", 'shan', \"shan't\", 'shouldn', \"shouldn't\", 'wasn', \"wasn't\", 'weren', \"weren't\", \\\n",
    "            'won', \"won't\", 'wouldn', \"wouldn't\"])\n",
    "    #Sorting data according to unique_hash in ascending order\n",
    "    global sorted_data\n",
    "    sorted_data=df.sort_values('unique_hash', axis=0, ascending=True, inplace=False, kind='quicksort', na_position='last')\n",
    "    \n",
    "    sno = nltk.stem.SnowballStemmer('english') #initialising the snowball stemmer\n",
    "    preprocessed_text = []\n",
    "    # tqdm is for printing the status bar\n",
    "    for sentance in tqdm(sorted_data['text'].values):\n",
    "        sentance = re.sub(r\"http\\S+\", \"\", sentance)\n",
    "        sentance = BeautifulSoup(sentance, 'html.parser').get_text()\n",
    "        sentance = decontracted(sentance)\n",
    "        sentance = re.sub(\"\\S*\\d\\S*\", \"\", sentance).strip()\n",
    "        sentance = re.sub('[^A-Za-z]+', ' ', sentance)\n",
    "        # https://gist.github.com/sebleier/554280\n",
    "        sentance=(sno.stem(sentance.lower()))\n",
    "        sentance = ' '.join(sno.stem(e.lower()) for e in sentance.split() if e.lower() not in stopwords)\n",
    "        preprocessed_text.append(sentance.strip())\n",
    "\n",
    "    sorted_data['clean_data']=preprocessed_text\n",
    "    #return sorted_data"
   ]
  },
  {
   "cell_type": "code",
   "execution_count": 11,
   "metadata": {},
   "outputs": [
    {
     "name": "stderr",
     "output_type": "stream",
     "text": [
      "[nltk_data] Downloading package stopwords to\n",
      "[nltk_data]     /home/iventura/nltk_data...\n",
      "[nltk_data]   Unzipping corpora/stopwords.zip.\n",
      "100%|██████████| 5279/5279 [00:20<00:00, 257.05it/s]\n"
     ]
    }
   ],
   "source": [
    "preprocess_data(df)"
   ]
  },
  {
   "cell_type": "code",
   "execution_count": 12,
   "metadata": {},
   "outputs": [],
   "source": [
    "sorted_data['clean_data']=sorted_data['drug']+str(' ')+ sorted_data['clean_data']"
   ]
  },
  {
   "cell_type": "code",
   "execution_count": 13,
   "metadata": {},
   "outputs": [
    {
     "data": {
      "text/html": [
       "<div>\n",
       "<style scoped>\n",
       "    .dataframe tbody tr th:only-of-type {\n",
       "        vertical-align: middle;\n",
       "    }\n",
       "\n",
       "    .dataframe tbody tr th {\n",
       "        vertical-align: top;\n",
       "    }\n",
       "\n",
       "    .dataframe thead th {\n",
       "        text-align: right;\n",
       "    }\n",
       "</style>\n",
       "<table border=\"1\" class=\"dataframe\">\n",
       "  <thead>\n",
       "    <tr style=\"text-align: right;\">\n",
       "      <th></th>\n",
       "      <th>unique_hash</th>\n",
       "      <th>text</th>\n",
       "      <th>drug</th>\n",
       "      <th>sentiment</th>\n",
       "      <th>clean_data</th>\n",
       "    </tr>\n",
       "  </thead>\n",
       "  <tbody>\n",
       "    <tr>\n",
       "      <td>5199</td>\n",
       "      <td>ffbe209ec31113070575e17a106a0f7de22fc191</td>\n",
       "      <td>Fraser Cummings, MBChB, DPhil, University Hosp...</td>\n",
       "      <td>ct-p13</td>\n",
       "      <td>2</td>\n",
       "      <td>ct-p13 fraser cum mbchb dphil univers hospit s...</td>\n",
       "    </tr>\n",
       "    <tr>\n",
       "      <td>5088</td>\n",
       "      <td>ffc25661252261987b439c7ea3f30b82fcc26698</td>\n",
       "      <td>Kanva! It's so good to hear from you!!! Like s...</td>\n",
       "      <td>stelara</td>\n",
       "      <td>2</td>\n",
       "      <td>stelara kanva good hear like serious realli go...</td>\n",
       "    </tr>\n",
       "    <tr>\n",
       "      <td>4185</td>\n",
       "      <td>ffdc0367deb5dd0c53382ea00899b56cad1ef836</td>\n",
       "      <td>http://www.businesswire.com/news/hom...A2-Ocre...</td>\n",
       "      <td>ocrelizumab</td>\n",
       "      <td>0</td>\n",
       "      <td>ocrelizumab fda extend review ocrelizumab arti...</td>\n",
       "    </tr>\n",
       "    <tr>\n",
       "      <td>237</td>\n",
       "      <td>fffdb80f7a644eb083d37c8314e893b069970957</td>\n",
       "      <td>I am having my first infusion of Ocrelizumab n...</td>\n",
       "      <td>ocrelizumab</td>\n",
       "      <td>2</td>\n",
       "      <td>ocrelizumab first infus ocrelizumab next week</td>\n",
       "    </tr>\n",
       "    <tr>\n",
       "      <td>4444</td>\n",
       "      <td>fffe2ec07bb421754c5225f4b5bce4e2ca5b57ab</td>\n",
       "      <td>I am new here, be gentle with me and forgive m...</td>\n",
       "      <td>fingolimod</td>\n",
       "      <td>2</td>\n",
       "      <td>fingolimod new gentl forgiv post wrong area tr...</td>\n",
       "    </tr>\n",
       "  </tbody>\n",
       "</table>\n",
       "</div>"
      ],
      "text/plain": [
       "                                   unique_hash  \\\n",
       "5199  ffbe209ec31113070575e17a106a0f7de22fc191   \n",
       "5088  ffc25661252261987b439c7ea3f30b82fcc26698   \n",
       "4185  ffdc0367deb5dd0c53382ea00899b56cad1ef836   \n",
       "237   fffdb80f7a644eb083d37c8314e893b069970957   \n",
       "4444  fffe2ec07bb421754c5225f4b5bce4e2ca5b57ab   \n",
       "\n",
       "                                                   text         drug  \\\n",
       "5199  Fraser Cummings, MBChB, DPhil, University Hosp...       ct-p13   \n",
       "5088  Kanva! It's so good to hear from you!!! Like s...      stelara   \n",
       "4185  http://www.businesswire.com/news/hom...A2-Ocre...  ocrelizumab   \n",
       "237   I am having my first infusion of Ocrelizumab n...  ocrelizumab   \n",
       "4444  I am new here, be gentle with me and forgive m...   fingolimod   \n",
       "\n",
       "      sentiment                                         clean_data  \n",
       "5199          2  ct-p13 fraser cum mbchb dphil univers hospit s...  \n",
       "5088          2  stelara kanva good hear like serious realli go...  \n",
       "4185          0  ocrelizumab fda extend review ocrelizumab arti...  \n",
       "237           2      ocrelizumab first infus ocrelizumab next week  \n",
       "4444          2  fingolimod new gentl forgiv post wrong area tr...  "
      ]
     },
     "execution_count": 13,
     "metadata": {},
     "output_type": "execute_result"
    }
   ],
   "source": [
    "sorted_data.tail()"
   ]
  },
  {
   "cell_type": "markdown",
   "metadata": {},
   "source": [
    "## Pandas dataframe to markdown Table format"
   ]
  },
  {
   "cell_type": "code",
   "execution_count": 14,
   "metadata": {},
   "outputs": [],
   "source": [
    "# result_display  is function to convert dataframe into table format in Markdown\n",
    "def result_display(df):\n",
    "    writer = pytablewriter.MarkdownTableWriter()\n",
    "    #writer.table_name = name\n",
    "    writer.header_list = list(df.columns.values)\n",
    "    writer.value_matrix = df.values.tolist()\n",
    "    writer.write_table()"
   ]
  },
  {
   "cell_type": "markdown",
   "metadata": {},
   "source": [
    "#### Splitting Training and Testing dataset {for testing purpose}"
   ]
  },
  {
   "cell_type": "code",
   "execution_count": 15,
   "metadata": {},
   "outputs": [
    {
     "name": "stdout",
     "output_type": "stream",
     "text": [
      "x_train= (3695,) x_test (1584,)\n",
      "y_train (3695,) y_test (1584,)\n"
     ]
    }
   ],
   "source": [
    "from sklearn.model_selection import train_test_split\n",
    "x=sorted_data['clean_data']\n",
    "y=sorted_data['sentiment']\n",
    "x_train, x_test, y_train, y_test = train_test_split(x,y, test_size=0.3)\n",
    "print('x_train=',x_train.shape,\"x_test\",x_test.shape)\n",
    "print(\"y_train\",y_train.shape,\"y_test\",y_test.shape)"
   ]
  },
  {
   "cell_type": "code",
   "execution_count": 16,
   "metadata": {},
   "outputs": [],
   "source": [
    "#  alpha_nb is function to calculate the alpha value for naive bayes\n",
    "from sklearn.naive_bayes import MultinomialNB\n",
    "def alpha_nb(X_train,y_train, My_List):\n",
    "   \n",
    "    alpha_value = list(filter(lambda x: x % 2 != 0, My_List))\n",
    "\n",
    "    # empty list that will hold cv scores\n",
    "    cv_scores = []\n",
    "    \n",
    "    # perform Time seris splitting  cross validation\n",
    "    for i in alpha_value:\n",
    "        nb_classifier = MultinomialNB(alpha= i, fit_prior=True)\n",
    "        scores = cross_val_score(nb_classifier, X_train, y_train, cv=10, scoring='f1_macro')\n",
    "        cv_scores.append(scores.mean())\n",
    "\n",
    "    # changing to misclassification error\n",
    "    MSE = [1 - x for x in cv_scores]\n",
    "\n",
    "    # determining best alpha value\n",
    "    global best_alpha_value\n",
    "    best_alpha_value = alpha_value[MSE.index(min(MSE))]\n",
    "    print('\\nThe best value of alpha is %d.' % best_alpha_value)\n",
    "  \n",
    "      # plot misclassification error vs alpha \n",
    "    fig = plt.figure( facecolor='y', edgecolor='k',figsize=(15,8))\n",
    "  \n",
    "    plt.semilogx(alpha_value, MSE,'m*',linestyle='dashed', label='depthsize')\n",
    "    plt.legend(loc='lower left')\n",
    "    plt.grid()\n",
    "    for xy in zip(alpha_value, np.round(MSE,3)):\n",
    "        plt.annotate('(%s, %s)' % xy, xy=xy, textcoords='data')\n",
    "    plt.title('Error_Rate vs. alpha_Value')\n",
    "    plt.xlabel('Number of alpha')\n",
    "    plt.ylabel('Misclassification Error')\n",
    "    plt.show()\n",
    "\n",
    "    print(\"the misclassification error for each alpha value is : \", np.round(MSE,3))\n",
    "    \n",
    "    \n",
    "    \n",
    "    \n",
    "    return best_alpha_value"
   ]
  },
  {
   "cell_type": "markdown",
   "metadata": {},
   "source": [
    "# TFIDF"
   ]
  },
  {
   "cell_type": "code",
   "execution_count": 17,
   "metadata": {},
   "outputs": [
    {
     "name": "stdout",
     "output_type": "stream",
     "text": [
      "(3695, 1000)\n"
     ]
    }
   ],
   "source": [
    "tf_idf_vect = TfidfVectorizer( max_features=1000,ngram_range=(1,2))\n",
    "final_tf_idf = tf_idf_vect.fit_transform(x_train.values.astype('U').ravel())\n",
    "final_tf_idf.get_shape()\n",
    "\n",
    "xtrain =  StandardScaler(with_mean=False).fit_transform(final_tf_idf )\n",
    "print(xtrain.shape)"
   ]
  },
  {
   "cell_type": "code",
   "execution_count": 18,
   "metadata": {},
   "outputs": [
    {
     "name": "stdout",
     "output_type": "stream",
     "text": [
      "(1584, 1000)\n"
     ]
    }
   ],
   "source": [
    "final_tf_idf_test = tf_idf_vect.transform(x_test.values.astype('U').ravel())\n",
    "final_tf_idf_test.get_shape()\n",
    "xtest =  StandardScaler(with_mean=False).fit_transform(final_tf_idf_test )\n",
    "print(xtest.shape)"
   ]
  },
  {
   "cell_type": "code",
   "execution_count": 19,
   "metadata": {},
   "outputs": [
    {
     "data": {
      "text/plain": [
       "array([2675, 2675, 2675])"
      ]
     },
     "execution_count": 19,
     "metadata": {},
     "output_type": "execute_result"
    }
   ],
   "source": [
    "#pip install imblearn\n",
    "from imblearn.over_sampling import SMOTE\n",
    "smt = SMOTE()\n",
    "x1,y1 = smt.fit_sample(xtrain,y_train)\n",
    "np.bincount(y1)"
   ]
  },
  {
   "cell_type": "code",
   "execution_count": 20,
   "metadata": {},
   "outputs": [
    {
     "data": {
      "text/plain": [
       "array([2675, 2675, 2675])"
      ]
     },
     "execution_count": 20,
     "metadata": {},
     "output_type": "execute_result"
    }
   ],
   "source": [
    "x2,y2 = smt.fit_sample(xtest,y_test)\n",
    "np.bincount(y1)"
   ]
  },
  {
   "cell_type": "code",
   "execution_count": 21,
   "metadata": {},
   "outputs": [],
   "source": [
    "xtrain =x1\n",
    "xtest=x2\n",
    "y_train=y1\n",
    "y_test=y2"
   ]
  },
  {
   "cell_type": "code",
   "execution_count": 22,
   "metadata": {},
   "outputs": [],
   "source": [
    "#y_train=y1.values.ravel()\n",
    "#y_test=y2.values.ravel()"
   ]
  },
  {
   "cell_type": "code",
   "execution_count": 23,
   "metadata": {},
   "outputs": [
    {
     "name": "stdout",
     "output_type": "stream",
     "text": [
      "\n",
      "The best value of alpha is 1.\n"
     ]
    },
    {
     "data": {
      "image/png": "[encoded data removed]",
      "text/plain": [
       "<Figure size 1080x576 with 1 Axes>"
      ]
     },
     "metadata": {},
     "output_type": "display_data"
    },
    {
     "name": "stdout",
     "output_type": "stream",
     "text": [
      "the misclassification error for each alpha value is :  [0.315 0.315 0.316 0.316 0.316 0.316 0.317 0.317 0.317 0.318 0.318 0.319]\n"
     ]
    }
   ],
   "source": [
    "My_List3 = list(range(0,25))\n",
    "\n",
    "alphaNB = alpha_nb(xtrain ,y_train,My_List3)"
   ]
  },
  {
   "cell_type": "code",
   "execution_count": 24,
   "metadata": {},
   "outputs": [
    {
     "name": "stdout",
     "output_type": "stream",
     "text": [
      "[1.00000000e+00 2.78255940e+00 7.74263683e+00 2.15443469e+01\n",
      " 5.99484250e+01 1.66810054e+02 4.64158883e+02 1.29154967e+03\n",
      " 3.59381366e+03 1.00000000e+04]\n"
     ]
    }
   ],
   "source": [
    "C11 = np.logspace(0, 4, 10)\n",
    "print(C11)"
   ]
  },
  {
   "cell_type": "code",
   "execution_count": 25,
   "metadata": {},
   "outputs": [],
   "source": [
    "hp1=dict(alpha=C11)\n",
    "nb3 =GridSearchCV(MultinomialNB(), hp1,cv=10,n_jobs=-1)\n",
    "nb3.fit(xtrain ,y_train)\n",
    "\n",
    "prediction3 = nb3.predict(xtest)"
   ]
  },
  {
   "cell_type": "code",
   "execution_count": 26,
   "metadata": {},
   "outputs": [
    {
     "name": "stdout",
     "output_type": "stream",
     "text": [
      "training accuracy= 0.7072897196261683\n",
      "training error is = 0.29271028037383173\n"
     ]
    }
   ],
   "source": [
    "\n",
    "#Training accuracy and training error\n",
    "training_score=nb3.score(xtrain ,y_train)\n",
    "print('training accuracy=',training_score)\n",
    "training_error=1-training_score\n",
    "print('training error is =',training_error)"
   ]
  },
  {
   "cell_type": "code",
   "execution_count": 27,
   "metadata": {},
   "outputs": [
    {
     "name": "stdout",
     "output_type": "stream",
     "text": [
      "Accuracy for Naive Bayes model with TF-IDF is =  0.51855\n",
      "Testing error for Naive Bayes  model with TF-IDF is =  0.48145000000000004\n"
     ]
    }
   ],
   "source": [
    "\n",
    "# Testing Accuracy and testing error for Naive Bayes model\n",
    "\n",
    "Testing_score=round(accuracy_score(y_test ,prediction3),5)\n",
    "print(\"Accuracy for Naive Bayes model with TF-IDF is = \",Testing_score)\n",
    "Testing_error=1-Testing_score\n",
    "print(\"Testing error for Naive Bayes  model with TF-IDF is = \",Testing_error)"
   ]
  },
  {
   "cell_type": "code",
   "execution_count": 28,
   "metadata": {},
   "outputs": [],
   "source": [
    "F1_score = round(f1_score(y_test ,prediction3,average='macro'),5)*100\n",
    "recall = round(recall_score(y_test,prediction3,average='macro'),5)*100\n",
    "precision = round(precision_score(y_test ,prediction3,average='macro'),5)*100"
   ]
  },
  {
   "cell_type": "code",
   "execution_count": 29,
   "metadata": {},
   "outputs": [
    {
     "name": "stdout",
     "output_type": "stream",
     "text": [
      "51.449\n"
     ]
    }
   ],
   "source": [
    "print(F1_score)"
   ]
  },
  {
   "cell_type": "code",
   "execution_count": 30,
   "metadata": {},
   "outputs": [
    {
     "data": {
      "image/png": "[encoded data removed]",
      "text/plain": [
       "<Figure size 432x288 with 2 Axes>"
      ]
     },
     "metadata": {
      "needs_background": "light"
     },
     "output_type": "display_data"
    }
   ],
   "source": [
    "cm = confusion_matrix(y_test ,prediction3)\n",
    "label = [ 'positive','negative','neutral']\n",
    "df_conf = pd.DataFrame(cm, index = label, columns = label)\n",
    "sns.heatmap(df_conf, annot = True, fmt = \"d\")\n",
    "plt.title(\"Confusiion Matrix\")\n",
    "plt.xlabel(\"Predicted Label\")\n",
    "plt.ylabel(\"True Label\")\n",
    "plt.show()"
   ]
  },
  {
   "cell_type": "code",
   "execution_count": 31,
   "metadata": {},
   "outputs": [
    {
     "name": "stdout",
     "output_type": "stream",
     "text": [
      "1445\n",
      "782\n",
      "1223\n"
     ]
    }
   ],
   "source": [
    "prediction33=prediction3.tolist()\n",
    "print(prediction33.count(1))\n",
    "print(prediction33.count(0))\n",
    "print(prediction33.count(2))"
   ]
  },
  {
   "cell_type": "markdown",
   "metadata": {},
   "source": [
    "# Train and test Datasets"
   ]
  },
  {
   "cell_type": "code",
   "execution_count": 32,
   "metadata": {},
   "outputs": [],
   "source": [
    "x_train=x\n",
    "y_train=y"
   ]
  },
  {
   "cell_type": "code",
   "execution_count": 33,
   "metadata": {},
   "outputs": [
    {
     "data": {
      "text/html": [
       "<div>\n",
       "<style scoped>\n",
       "    .dataframe tbody tr th:only-of-type {\n",
       "        vertical-align: middle;\n",
       "    }\n",
       "\n",
       "    .dataframe tbody tr th {\n",
       "        vertical-align: top;\n",
       "    }\n",
       "\n",
       "    .dataframe thead th {\n",
       "        text-align: right;\n",
       "    }\n",
       "</style>\n",
       "<table border=\"1\" class=\"dataframe\">\n",
       "  <thead>\n",
       "    <tr style=\"text-align: right;\">\n",
       "      <th></th>\n",
       "      <th>unique_hash</th>\n",
       "      <th>text</th>\n",
       "      <th>drug</th>\n",
       "    </tr>\n",
       "  </thead>\n",
       "  <tbody>\n",
       "    <tr>\n",
       "      <td>0</td>\n",
       "      <td>9e9a8166b84114aca147bf409f6f956635034c08</td>\n",
       "      <td>256 (previously stable on natalizumab), with 5...</td>\n",
       "      <td>fingolimod</td>\n",
       "    </tr>\n",
       "    <tr>\n",
       "      <td>1</td>\n",
       "      <td>e747e6822c867571afe7b907b51f0f2ca67b0e1a</td>\n",
       "      <td>On fingolimod and have been since December 201...</td>\n",
       "      <td>fingolimod</td>\n",
       "    </tr>\n",
       "    <tr>\n",
       "      <td>2</td>\n",
       "      <td>50b6d851bcff4f35afe354937949e9948975adf7</td>\n",
       "      <td>Apparently it's shingles! :-/ I do have a few ...</td>\n",
       "      <td>humira</td>\n",
       "    </tr>\n",
       "    <tr>\n",
       "      <td>3</td>\n",
       "      <td>7f82ec2176ae6ab0b5d20b5ffc767ac829f384ae</td>\n",
       "      <td>If the Docetaxel doing once a week x3 weeks th...</td>\n",
       "      <td>tagrisso</td>\n",
       "    </tr>\n",
       "    <tr>\n",
       "      <td>4</td>\n",
       "      <td>8b37d169dee5bdae27060949242fb54feb6a7f7f</td>\n",
       "      <td>CC, Stelara worked in a matter of days for me....</td>\n",
       "      <td>stelara</td>\n",
       "    </tr>\n",
       "  </tbody>\n",
       "</table>\n",
       "</div>"
      ],
      "text/plain": [
       "                                unique_hash  \\\n",
       "0  9e9a8166b84114aca147bf409f6f956635034c08   \n",
       "1  e747e6822c867571afe7b907b51f0f2ca67b0e1a   \n",
       "2  50b6d851bcff4f35afe354937949e9948975adf7   \n",
       "3  7f82ec2176ae6ab0b5d20b5ffc767ac829f384ae   \n",
       "4  8b37d169dee5bdae27060949242fb54feb6a7f7f   \n",
       "\n",
       "                                                text        drug  \n",
       "0  256 (previously stable on natalizumab), with 5...  fingolimod  \n",
       "1  On fingolimod and have been since December 201...  fingolimod  \n",
       "2  Apparently it's shingles! :-/ I do have a few ...      humira  \n",
       "3  If the Docetaxel doing once a week x3 weeks th...    tagrisso  \n",
       "4  CC, Stelara worked in a matter of days for me....     stelara  "
      ]
     },
     "execution_count": 33,
     "metadata": {},
     "output_type": "execute_result"
    }
   ],
   "source": [
    "df_test=pd.read_csv('test.csv')\n",
    "df_test.head()"
   ]
  },
  {
   "cell_type": "markdown",
   "metadata": {},
   "source": [
    "# Pre processing Test"
   ]
  },
  {
   "cell_type": "code",
   "execution_count": 34,
   "metadata": {},
   "outputs": [
    {
     "name": "stderr",
     "output_type": "stream",
     "text": [
      "[nltk_data] Downloading package stopwords to\n",
      "[nltk_data]     /home/iventura/nltk_data...\n",
      "[nltk_data]   Package stopwords is already up-to-date!\n",
      "100%|██████████| 2924/2924 [00:13<00:00, 218.33it/s]\n"
     ]
    }
   ],
   "source": [
    "preprocess_data(df_test)"
   ]
  },
  {
   "cell_type": "code",
   "execution_count": 35,
   "metadata": {},
   "outputs": [],
   "source": [
    "test_data=sorted_data"
   ]
  },
  {
   "cell_type": "code",
   "execution_count": 36,
   "metadata": {},
   "outputs": [],
   "source": [
    "test_data['clean_data']=test_data['drug']+str(' ')+ test_data['clean_data']"
   ]
  },
  {
   "cell_type": "code",
   "execution_count": 37,
   "metadata": {},
   "outputs": [
    {
     "data": {
      "text/plain": [
       "802    entyvio good luck ucfireman current fight insu...\n",
       "773    gilenya sara decid return school full time sch...\n",
       "291    opdivo nov wrote husband stage four nslc no cu...\n",
       "864    ocrelizumab appear differ monoclon antibodi de...\n",
       "844                     durvalumab durvalumab twin crack\n",
       "Name: clean_data, dtype: object"
      ]
     },
     "execution_count": 37,
     "metadata": {},
     "output_type": "execute_result"
    }
   ],
   "source": [
    "x_test=test_data['clean_data']\n",
    "x_test.tail()"
   ]
  },
  {
   "cell_type": "code",
   "execution_count": 38,
   "metadata": {},
   "outputs": [
    {
     "name": "stdout",
     "output_type": "stream",
     "text": [
      "(5279, 1000)\n"
     ]
    }
   ],
   "source": [
    "tf_idf_vect = TfidfVectorizer( max_features=1000,ngram_range=(1,2))\n",
    "final_tf_idf = tf_idf_vect.fit_transform(x_train.values.astype('U').ravel())\n",
    "final_tf_idf.get_shape()\n",
    "\n",
    "xtrain =  StandardScaler(with_mean=False).fit_transform(final_tf_idf )\n",
    "print(xtrain.shape)"
   ]
  },
  {
   "cell_type": "code",
   "execution_count": 39,
   "metadata": {},
   "outputs": [
    {
     "name": "stdout",
     "output_type": "stream",
     "text": [
      "(2924, 1000)\n"
     ]
    }
   ],
   "source": [
    "final_tf_idf_test = tf_idf_vect.transform(x_test.values.astype('U').ravel())\n",
    "final_tf_idf_test.get_shape()\n",
    "xtest =  StandardScaler(with_mean=False).fit_transform(final_tf_idf_test )\n",
    "print(xtest.shape)"
   ]
  },
  {
   "cell_type": "code",
   "execution_count": 40,
   "metadata": {},
   "outputs": [],
   "source": [
    "test_data['sentiment']=0"
   ]
  },
  {
   "cell_type": "code",
   "execution_count": 41,
   "metadata": {},
   "outputs": [
    {
     "name": "stdout",
     "output_type": "stream",
     "text": [
      "(2924, 2)\n",
      "(2924, 5)\n",
      "(2924, 2)\n"
     ]
    }
   ],
   "source": [
    "submission = pd.read_csv('samplesubmission.csv')\n",
    "print(submission.shape)\n",
    "print(test_data.shape)\n",
    "#submission=submission[0:len(test)]\n",
    "submission['unique_hash']= test_data['unique_hash']\n",
    "submission['sentiment'] = test_data['sentiment']\n",
    "print(submission.shape)"
   ]
  },
  {
   "cell_type": "code",
   "execution_count": 42,
   "metadata": {},
   "outputs": [
    {
     "data": {
      "text/plain": [
       "array([3825, 3825, 3825])"
      ]
     },
     "execution_count": 42,
     "metadata": {},
     "output_type": "execute_result"
    }
   ],
   "source": [
    "xtrain,y_train = smt.fit_sample(xtrain,y_train)\n",
    "np.bincount(y_train)"
   ]
  },
  {
   "cell_type": "code",
   "execution_count": 43,
   "metadata": {},
   "outputs": [
    {
     "name": "stdout",
     "output_type": "stream",
     "text": [
      "CPU times: user 226 ms, sys: 12.2 ms, total: 238 ms\n",
      "Wall time: 558 ms\n"
     ]
    }
   ],
   "source": [
    "#Best lambda and best penalty\n",
    "\n",
    "hp1=dict(alpha=C11)\n",
    "nb3 =GridSearchCV(MultinomialNB(), hp1,cv=10,n_jobs=-1)\n",
    "%time nb3.fit(xtrain ,y_train)\n",
    "\n",
    "prediction4 = nb3.predict(xtest)"
   ]
  },
  {
   "cell_type": "code",
   "execution_count": 44,
   "metadata": {},
   "outputs": [
    {
     "name": "stdout",
     "output_type": "stream",
     "text": [
      "training accuracy= 0.683834422657952\n",
      "training error is = 0.316165577342048\n"
     ]
    }
   ],
   "source": [
    "\n",
    "#Training accuracy and training error\n",
    "training_score=nb3.score(xtrain ,y_train)\n",
    "print('training accuracy=',training_score)\n",
    "training_error=1-training_score\n",
    "print('training error is =',training_error)"
   ]
  },
  {
   "cell_type": "code",
   "execution_count": 45,
   "metadata": {},
   "outputs": [],
   "source": [
    "submission['sentiment'][0:len(test_data)] = prediction4\n",
    "#submission['cc_cons'][len(test):len(submission)] =median(pred)\n",
    "submission.to_csv('submit_file_TFIDF_NB.csv',index=False)"
   ]
  },
  {
   "cell_type": "code",
   "execution_count": 46,
   "metadata": {},
   "outputs": [
    {
     "data": {
      "text/plain": [
       "2    1462\n",
       "1    1025\n",
       "0     437\n",
       "Name: sentiment, dtype: int64"
      ]
     },
     "execution_count": 46,
     "metadata": {},
     "output_type": "execute_result"
    }
   ],
   "source": [
    "senti_prediction_NB=submission['sentiment']\n",
    "submission['sentiment'].value_counts()"
   ]
  },
  {
   "cell_type": "code",
   "execution_count": 47,
   "metadata": {},
   "outputs": [
    {
     "data": {
      "text/plain": [
       "<matplotlib.axes._subplots.AxesSubplot at 0x7f1ab579c470>"
      ]
     },
     "execution_count": 47,
     "metadata": {},
     "output_type": "execute_result"
    },
    {
     "data": {
      "image/png": "[encoded data removed]",
      "text/plain": [
       "<Figure size 432x288 with 1 Axes>"
      ]
     },
     "metadata": {},
     "output_type": "display_data"
    }
   ],
   "source": [
    "submission['sentiment'].value_counts().plot(kind='pie', autopct='%1.0f%%', colors=[\"red\", \"yellow\", \"green\"])"
   ]
  },
  {
   "cell_type": "code",
   "execution_count": 48,
   "metadata": {},
   "outputs": [],
   "source": [
    "import pickle\n",
    "pickle_out = open(\"senti_prediction_NB.pickle\",\"wb\")\n",
    "pickle.dump(senti_prediction_NB, pickle_out)\n",
    "pickle_out.close()"
   ]
  },
  {
   "cell_type": "code",
   "execution_count": 49,
   "metadata": {},
   "outputs": [],
   "source": [
    "import pickle\n",
    "import pandas as pd\n",
    "infile = open(\"senti_prediction.pickle\",'rb')\n",
    "data1 = pickle.load(infile)\n",
    "infile.close()  "
   ]
  },
  {
   "cell_type": "code",
   "execution_count": 50,
   "metadata": {},
   "outputs": [
    {
     "name": "stdout",
     "output_type": "stream",
     "text": [
      "2    2889\n",
      "0      21\n",
      "1      14\n",
      "Name: sentiment, dtype: int64\n"
     ]
    }
   ],
   "source": [
    "z=data1.value_counts()\n",
    "print(z)"
   ]
  },
  {
   "cell_type": "code",
   "execution_count": 53,
   "metadata": {},
   "outputs": [],
   "source": [
    "#data1.value_counts().plot(kind='pie', autopct='%1.0f%%', colors=[\"red\", \"yellow\", \"green\"])"
   ]
  },
  {
   "cell_type": "code",
   "execution_count": 52,
   "metadata": {},
   "outputs": [],
   "source": [
    "filename = 'senti_prediction_NB.pickle'\n",
    "with open(filename, 'rb') as f:\n",
    "    classification_dict = pickle.load(f)"
   ]
  },
  {
   "cell_type": "code",
   "execution_count": null,
   "metadata": {},
   "outputs": [],
   "source": []
  },
  {
   "cell_type": "code",
   "execution_count": null,
   "metadata": {},
   "outputs": [],
   "source": []
  }
 ],
 "metadata": {
  "kernelspec": {
   "display_name": "Python 3",
   "language": "python",
   "name": "python3"
  },
  "language_info": {
   "codemirror_mode": {
    "name": "ipython",
    "version": 3
   },
   "file_extension": ".py",
   "mimetype": "text/x-python",
   "name": "python",
   "nbconvert_exporter": "python",
   "pygments_lexer": "ipython3",
   "version": "3.7.3"
  }
 },
 "nbformat": 4,
 "nbformat_minor": 4
}
